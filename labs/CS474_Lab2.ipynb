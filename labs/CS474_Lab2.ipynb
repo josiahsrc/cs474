{
  "nbformat": 4,
  "nbformat_minor": 0,
  "metadata": {
    "accelerator": "GPU",
    "colab": {
      "name": "CS474_Lab2.ipynb",
      "provenance": [],
      "collapsed_sections": []
    },
    "kernelspec": {
      "display_name": "Python 3",
      "language": "python",
      "name": "python3"
    },
    "language_info": {
      "codemirror_mode": {
        "name": "ipython",
        "version": 3
      },
      "file_extension": ".py",
      "mimetype": "text/x-python",
      "name": "python",
      "nbconvert_exporter": "python",
      "pygments_lexer": "ipython3",
      "version": "3.7.1"
    },
    "pycharm": {
      "stem_cell": {
        "cell_type": "raw",
        "metadata": {
          "collapsed": false
        },
        "source": []
      }
    }
  },
  "cells": [
    {
      "cell_type": "markdown",
      "metadata": {
        "id": "ep2DPT3H32s9"
      },
      "source": [
        "<a href=\"https://colab.research.google.com/github/wingated/cs474_labs_f2019/blob/master/DL_Lab2.ipynb\" target=\"_parent\"><img src=\"https://colab.research.google.com/assets/colab-badge.svg\" alt=\"Open In Colab\"/></a>"
      ]
    },
    {
      "cell_type": "markdown",
      "metadata": {
        "id": "view-in-github"
      },
      "source": [
        "# Lab 2: Intro to PyTorch\n",
        "\n",
        "## Deliverable\n",
        "\n",
        "For this lab, you will submit an ipython notebook via learningsuite.\n",
        "This lab will be mostly boilerplate code, but you will be required to implement a few extras.\n",
        "\n",
        "**NOTE: you almost certainly will not understand most of what's going on in this lab!\n",
        "That's ok - the point is just to get you going with pytorch.\n",
        "We'll be working on developing a deeper understanding of every part of this code\n",
        "over the course of the next two weeks.**\n",
        "\n",
        "A major goal of this lab is to help you become conversant in working through pytorch\n",
        "tutorials and documentation.\n",
        "So, you should feel free to google whatever you want and need!\n",
        "\n",
        "This notebook will have four parts:\n",
        "\n",
        "* Part 1: Your notebook should contain the boilerplate code. See below.\n",
        "\n",
        "* Part 2: Your notebook should extend the boilerplate code by adding a testing loop.\n",
        "\n",
        "* Part 3: Your notebook should extend the boilerplate code by adding a visualization of test/training performance over time.\n",
        "\n",
        "The resulting image could, for example, look like this:\n",
        "![](http://liftothers.org/dokuwiki/lib/exe/fetch.php?cache=&w=900&h=608&tok=3092fe&media=cs501r_f2018:lab2.png)\n",
        "\n",
        "* Part 4: Your notebook should contain the completed microtasks and pass all the asserts.\n",
        "\n",
        "See the assigned readings for pointers to documentation on pytorch.\n",
        "___\n",
        "\n",
        "### Grading standards:\n",
        "Your notebook will be graded on the following:\n",
        "\n",
        "* 40% Successfully followed lab video and typed in code\n",
        "* 20% Modified code to include a test/train split\n",
        "* 20% Modified code to include a visualization of train/test losses\n",
        "* 10% Tidy and legible figures, including labeled axes where appropriate\n",
        "* 10% Correct solutions to the microtasks\n",
        "___\n",
        "\n",
        "### Description\n",
        "Throughout this class, we will be using pytorch to implement our deep neural networks. \n",
        "Pytorch is a deep learning framework that handles the low-level details of \n",
        "GPU integration and automatic differentiation.\n",
        "\n",
        "The goal of this lab is to help you become familiar with pytorch. \n",
        "The four parts of the lab are outlined above.\n",
        "\n",
        "For part 1, you should watch the video below, and type in the code as it is explained to you.\n",
        "\n",
        "A more detailed outline of Part 1 is below.\n",
        "\n",
        "For part 2, you must add a validation (or testing) loop using the \n",
        "FashionMNIST dataset with train=False\n",
        "\n",
        "For part 3, you must plot the loss values.\n",
        "\n",
        "For part 4, you must complete the microtasks and pass all asserts.\n",
        "\n",
        "Optional: Demonstrate overfitting on the training data.\n",
        "\n",
        "The easiest way to do this is to limit the size of your training dataset \n",
        "so that it only returns a single batch (ie len(dataloader) == batch_size, \n",
        "and train for multiple epochs. For example,\n",
        "I set my batch size to 42, and augmented my dataloader to produce only 42 \n",
        "unique items by overwriting the len function to return 42. \n",
        "In my training loop, I performed a validation every epoch which basically corresponded \n",
        "to a validation every step.\n",
        "\n",
        "In practice, you will normally compute your validation loss every n steps, \n",
        "rather than at the end of every epoch. This is because some epochs can take hours, \n",
        "or even days and you don’t often want to wait that long to see your results.\n",
        "\n",
        "Testing your algorithm by using a single batch and training until overfitting \n",
        "is a great way of making sure that your model and optimizer are working the way they should!\n",
        "\n",
        "___\n",
        "\n",
        "### Part 0\n",
        "Watch Tutorial Video\n",
        "\n",
        "[https://youtu.be/E76hLX9WCLE](https://youtu.be/E76hLX9WCLE)\n",
        "\n",
        "**TODO:**\n",
        "\n",
        "**DONE:**\n",
        "* Watch video\n",
        "\n",
        "___\n",
        "\n",
        "### Part 1\n",
        "Your notebook should contain the boilerplate code. See below.\n",
        "\n",
        "**TODO:**\n",
        "\n",
        "**DONE:**\n",
        "* Replicate boilerplate from the video\n",
        "\n",
        "___\n",
        "\n",
        "### Part 2\n",
        "Your notebook should extend the boilerplate code by adding a testing loop.\n",
        "\n",
        "**TODO:**\n",
        "\n",
        "**DONE:**\n",
        "* Add a testing (validation) loop"
      ]
    },
    {
      "cell_type": "code",
      "metadata": {
        "id": "QClXc9i7VRyA",
        "pycharm": {
          "is_executing": false
        },
        "colab": {
          "base_uri": "https://localhost:8080/"
        },
        "outputId": "1612eb9e-985c-4e0a-81d7-83ad3fc3c1df"
      },
      "source": [
        "!pip3 install torch \n",
        "!pip3 install torchvision\n",
        "!pip3 install tqdm"
      ],
      "execution_count": null,
      "outputs": [
        {
          "output_type": "stream",
          "text": [
            "Requirement already satisfied: torch in /usr/local/lib/python3.6/dist-packages (1.7.0+cu101)\n",
            "Requirement already satisfied: future in /usr/local/lib/python3.6/dist-packages (from torch) (0.16.0)\n",
            "Requirement already satisfied: numpy in /usr/local/lib/python3.6/dist-packages (from torch) (1.19.5)\n",
            "Requirement already satisfied: dataclasses in /usr/local/lib/python3.6/dist-packages (from torch) (0.8)\n",
            "Requirement already satisfied: typing-extensions in /usr/local/lib/python3.6/dist-packages (from torch) (3.7.4.3)\n",
            "Requirement already satisfied: torchvision in /usr/local/lib/python3.6/dist-packages (0.8.1+cu101)\n",
            "Requirement already satisfied: numpy in /usr/local/lib/python3.6/dist-packages (from torchvision) (1.19.5)\n",
            "Requirement already satisfied: pillow>=4.1.1 in /usr/local/lib/python3.6/dist-packages (from torchvision) (7.0.0)\n",
            "Requirement already satisfied: torch==1.7.0 in /usr/local/lib/python3.6/dist-packages (from torchvision) (1.7.0+cu101)\n",
            "Requirement already satisfied: typing-extensions in /usr/local/lib/python3.6/dist-packages (from torch==1.7.0->torchvision) (3.7.4.3)\n",
            "Requirement already satisfied: dataclasses in /usr/local/lib/python3.6/dist-packages (from torch==1.7.0->torchvision) (0.8)\n",
            "Requirement already satisfied: future in /usr/local/lib/python3.6/dist-packages (from torch==1.7.0->torchvision) (0.16.0)\n",
            "Requirement already satisfied: tqdm in /usr/local/lib/python3.6/dist-packages (4.41.1)\n"
          ],
          "name": "stdout"
        }
      ]
    },
    {
      "cell_type": "code",
      "metadata": {
        "id": "OU80yuvqVXwk",
        "pycharm": {
          "is_executing": false
        }
      },
      "source": [
        "import torch\n",
        "import torch.nn as nn\n",
        "import torch.nn.functional as F\n",
        "import torch.optim as optim\n",
        "from torch.utils.data import Dataset, DataLoader\n",
        "import numpy as np\n",
        "import matplotlib.pyplot as plt\n",
        "from torchvision import transforms, utils, datasets\n",
        "from tqdm import tqdm\n",
        " \n",
        "# You need to request a GPU from Runtime > Change Runtime Type\n",
        "assert torch.cuda.is_available() "
      ],
      "execution_count": null,
      "outputs": []
    },
    {
      "cell_type": "code",
      "metadata": {
        "id": "hEPmKO9oV6YC"
      },
      "source": [
        "# REQUIREMENT: Extend the torch.Module class to create your own neural network\n",
        "class LinearNetwork(nn.Module):\n",
        "  def __init__(self, dataset):\n",
        "    super(LinearNetwork, self).__init__()\n",
        "    x, y = dataset[0]\n",
        "    c, h, w = x.size()\n",
        "    out_dim = 10 # <- Would use y, but y is a number between 0 and 9\n",
        "\n",
        "    self.net = nn.Sequential(\n",
        "        nn.Linear(c * h * w, 1000), # (input size, output size)\n",
        "        nn.ReLU(),\n",
        "        nn.Linear(1000, out_dim),\n",
        "    )\n",
        "\n",
        "  def forward(self, x):\n",
        "    n, c, h, w = x.size()\n",
        "\n",
        "    # Smash dimensions together, except for the batch size\n",
        "    flattened = x.view(n, c * h * w) \n",
        "\n",
        "    return self.net(flattened)\n",
        "\n",
        "  # Don't override this, mathmeticians are smart did a good job.\n",
        "  # def backward(self)"
      ],
      "execution_count": null,
      "outputs": []
    },
    {
      "cell_type": "code",
      "metadata": {
        "id": "SvhZxfH8V6F9"
      },
      "source": [
        "# REQUIREMENT: Create a dataset class that extends the torch.utils.data Dataset class here\n",
        "class FashionMNISTProcessedDataset(Dataset):\n",
        "  def __init__(self, root, train=True):\n",
        "    self.data = datasets.FashionMNIST(\n",
        "        root,\n",
        "        train=train,\n",
        "        transform=transforms.ToTensor(),\n",
        "        download=True # Cache the dataset\n",
        "    )\n",
        "\n",
        "  def __getitem__(self, i):\n",
        "    x, y = self.data[i]\n",
        "    return x, y\n",
        "\n",
        "  def __len__(self):\n",
        "    return len(self.data)"
      ],
      "execution_count": null,
      "outputs": []
    },
    {
      "cell_type": "code",
      "metadata": {
        "colab": {
          "base_uri": "https://localhost:8080/"
        },
        "id": "z24s1qUJV5yE",
        "outputId": "dc35bd08-8d86-4052-9b01-dde983ea1697"
      },
      "source": [
        "NUM_EPOCHS = 100\n",
        "BATCH_SIZE = 42\n",
        "BATCH_VALIDATION_SIZE = 10\n",
        "LR = 1e-4\n",
        "\n",
        "# REQUIREMENT: Instantiate the train and validation sets\n",
        "dataset_train = FashionMNISTProcessedDataset(\n",
        "    '/tmp/fashionmnist', \n",
        "    train = True\n",
        ")\n",
        "\n",
        "dataset_val = FashionMNISTProcessedDataset(\n",
        "    '/tmp/fashionmnist', \n",
        "    train = False\n",
        ")\n",
        "\n",
        "# REQUIREMENT: Instantiate your data loaders\n",
        "loader_train = DataLoader(\n",
        "    dataset_train, \n",
        "    batch_size=BATCH_SIZE, \n",
        "    pin_memory=True\n",
        ")\n",
        "\n",
        "loader_val = DataLoader(\n",
        "    dataset_val, \n",
        "    batch_size=BATCH_SIZE, \n",
        ")\n",
        "\n",
        "# REQUIREMENT: Instantiate your model and loss and optimizer functions\n",
        "model = LinearNetwork(dataset_train)\n",
        "model = model.cuda()\n",
        "optimizer = optim.SGD(model.parameters(), lr=LR)\n",
        "objective = torch.nn.CrossEntropyLoss()\n",
        "\n",
        "loop = tqdm(total=len(loader_train) * NUM_EPOCHS, position=0)\n",
        "losses_counter = 0\n",
        "losses_train = []\n",
        "losses_val = []\n",
        "\n",
        "# REQUIREMENT: Run your training / validation loops\n",
        "for epoch in range(NUM_EPOCHS):\n",
        "  # Only validate on the first batch\n",
        "  batch = 0\n",
        "\n",
        "  # Run training loop\n",
        "  for x, y_truth in loader_train:\n",
        "    # Place the variables on the GPU\n",
        "    x, y_truth = x.cuda(non_blocking=True), y_truth.cuda(non_blocking=True)\n",
        "\n",
        "    # Zero out the gradient\n",
        "    optimizer.zero_grad()\n",
        "\n",
        "    # Get the prediction\n",
        "    y_hat = model(x)\n",
        "\n",
        "    # Compute the loss\n",
        "    loss = objective(y_hat, y_truth)\n",
        "\n",
        "    # Track loss and only validate on the first batch\n",
        "    if epoch % BATCH_VALIDATION_SIZE == 0 and batch == 0:\n",
        "      # Compute the validation loss\n",
        "      tmp_val_losses = []\n",
        "      for val_x, val_y_truth in loader_val:\n",
        "        val_x, val_y_truth = val_x.cuda(non_blocking=True), val_y_truth.cuda(non_blocking=True)\n",
        "        val_y_hat = model(val_x)\n",
        "        val_loss = objective(val_y_hat, val_y_truth)\n",
        "        tmp_val_losses.append(val_loss)\n",
        "\n",
        "      # Store the loss\n",
        "      losses_val.append((sum(tmp_val_losses) / len(tmp_val_losses)).item())\n",
        "      losses_train.append(loss.item())\n",
        "      losses_counter += 1\n",
        "\n",
        "    # Track progress\n",
        "    loop.set_description('epoch={}, batch={}, loss={:.4f}, val_loss={:.4f}'.format(\n",
        "        epoch, batch, losses_train[-1], losses_val[-1]))\n",
        "\n",
        "    # Compute the gradient from backprop and step the optimizer\n",
        "    loss.backward()\n",
        "    optimizer.step()\n",
        "    batch += 1"
      ],
      "execution_count": null,
      "outputs": [
        {
          "output_type": "stream",
          "text": [
            "epoch=99, batch=1428, loss=0.6084, val_loss=0.6589:   0%|          | 0/142900 [14:28<?, ?it/s]"
          ],
          "name": "stderr"
        }
      ]
    },
    {
      "cell_type": "markdown",
      "metadata": {
        "id": "_IZmHOvirnFn"
      },
      "source": [
        "\n",
        "___\n",
        "\n",
        "### Part 3\n",
        "Your notebook should extend the boilerplate code by adding a visualization of test/training\n",
        "performance over time. Use matplotlib.pyplot\n",
        "\n",
        "**TODO:**\n",
        "\n",
        "**DONE:**\n",
        "* Add a visualization of test/train performance (i.e. loss) over time.\n"
      ]
    },
    {
      "cell_type": "code",
      "metadata": {
        "id": "YqYrbI5-WHb3",
        "pycharm": {
          "is_executing": false
        },
        "colab": {
          "base_uri": "https://localhost:8080/",
          "height": 279
        },
        "outputId": "ce156ae7-657e-4c11-f2b3-5704688fc515"
      },
      "source": [
        "# Write your code to create a plot of your loss over time\n",
        "fig = plt.figure()\n",
        "ax = fig.add_subplot(111)\n",
        "ax.plot(range(len(losses_val)), losses_val, label='Validation Loss')\n",
        "ax.plot(range(len(losses_train)), losses_train, label='Training Loss')\n",
        "plt.xlabel(\"Validation Snapshot Index\")\n",
        "plt.ylabel(\"Cross Entropy Loss\")\n",
        "plt.legend()\n",
        "plt.show()"
      ],
      "execution_count": null,
      "outputs": [
        {
          "output_type": "display_data",
          "data": {
            "image/png": "[encoded data removed]",
            "text/plain": [
              "<Figure size 432x288 with 1 Axes>"
            ]
          },
          "metadata": {
            "tags": [],
            "needs_background": "light"
          }
        }
      ]
    },
    {
      "cell_type": "markdown",
      "metadata": {
        "id": "0wW4QNYG4LE2"
      },
      "source": [
        "\n",
        "___\n",
        "\n",
        "### Part 4\n",
        "Complete the following microtasks to learn some important Pytorch skills. \n",
        "\n",
        "**TODO:**\n",
        "\n",
        "**DONE:**\n",
        "* Complete microtasks"
      ]
    },
    {
      "cell_type": "code",
      "metadata": {
        "id": "A9aHouhQ6cou",
        "colab": {
          "base_uri": "https://localhost:8080/"
        },
        "outputId": "28c47599-1c06-4d4a-e7ad-8233d675eae3"
      },
      "source": [
        "# Tensors are the the lifeblood of Pytorch. \n",
        "# Construct a 5x3 tensor, 'a', of zeros and of dtype long\n",
        "\n",
        "a = torch.zeros([5,3], dtype=torch.long)\n",
        "\n",
        "print(a)\n",
        "print(a.size())\n",
        "assert a.size() == torch.Size([5, 3])\n",
        "assert type(a[0][0].item()) is int"
      ],
      "execution_count": null,
      "outputs": [
        {
          "output_type": "stream",
          "text": [
            "tensor([[0, 0, 0],\n",
            "        [0, 0, 0],\n",
            "        [0, 0, 0],\n",
            "        [0, 0, 0],\n",
            "        [0, 0, 0]])\n",
            "torch.Size([5, 3])\n"
          ],
          "name": "stdout"
        }
      ]
    },
    {
      "cell_type": "code",
      "metadata": {
        "id": "6rfOY4HqYDTP",
        "colab": {
          "base_uri": "https://localhost:8080/"
        },
        "outputId": "af351bc5-2484-41b3-bb97-3d8bf892da95"
      },
      "source": [
        "# Many of your bugs will come from incorrect tensor dimensions. \n",
        "# Pytorch has several built-in functions to give you the control need. \n",
        "# Using only the .unsqueeze() function, turn 'a' into a 5x1x3 tensor. Hint: use the dim= argument\n",
        "\n",
        "a = a.unsqueeze(dim=1)\n",
        "\n",
        "print(a.shape)\n",
        "assert a.shape == torch.Size([5, 1, 3])"
      ],
      "execution_count": null,
      "outputs": [
        {
          "output_type": "stream",
          "text": [
            "torch.Size([5, 1, 3])\n"
          ],
          "name": "stdout"
        }
      ]
    },
    {
      "cell_type": "code",
      "metadata": {
        "id": "zY1SJ95Ekokk",
        "colab": {
          "base_uri": "https://localhost:8080/"
        },
        "outputId": "a199efe5-ace3-4879-fa06-536b1286c2e1"
      },
      "source": [
        "# Each dimension means something different. \n",
        "# You can change the order of your dimensions without losing information. \n",
        "# Reshape 'a' into a 5x3x1 tensor, using the .view() function\n",
        "\n",
        "a = a.view(5, 3, 1)\n",
        "\n",
        "print(a.shape)\n",
        "assert a.shape == torch.Size([5, 3, 1])"
      ],
      "execution_count": null,
      "outputs": [
        {
          "output_type": "stream",
          "text": [
            "torch.Size([5, 3, 1])\n"
          ],
          "name": "stdout"
        }
      ]
    },
    {
      "cell_type": "code",
      "metadata": {
        "id": "_0Q_1vDtmaKW",
        "colab": {
          "base_uri": "https://localhost:8080/"
        },
        "outputId": "78d1ee43-19b7-411e-8c93-aee385cb1625"
      },
      "source": [
        "# Dimensions of size 1 can sometimes be necessary for shape matching.\n",
        "# However, they can be removed without losing information. \n",
        "# Squeeze 'a' to remove dimensions of 1\n",
        "\n",
        "a = a.squeeze()\n",
        "\n",
        "print(a.shape)\n",
        "assert a.size() == torch.Size([5, 3])"
      ],
      "execution_count": null,
      "outputs": [
        {
          "output_type": "stream",
          "text": [
            "torch.Size([5, 3])\n"
          ],
          "name": "stdout"
        }
      ]
    },
    {
      "cell_type": "code",
      "metadata": {
        "id": "5miM1dYxnmSY",
        "colab": {
          "base_uri": "https://localhost:8080/"
        },
        "outputId": "aa7c46a2-d2e7-4a00-86f6-8f9c40a255e4"
      },
      "source": [
        "# You can turn any tensor into a tensor of a single dimension. \n",
        "# Flatten 'a' to a single dimension\n",
        "\n",
        "a = a.flatten()\n",
        "\n",
        "print(a.size())\n",
        "assert  a.size() == torch.Size([15]) "
      ],
      "execution_count": null,
      "outputs": [
        {
          "output_type": "stream",
          "text": [
            "torch.Size([15])\n"
          ],
          "name": "stdout"
        }
      ]
    },
    {
      "cell_type": "code",
      "metadata": {
        "id": "oxX1Ybcc7gDW",
        "colab": {
          "base_uri": "https://localhost:8080/"
        },
        "outputId": "155ea978-1c74-4b6a-e3db-73decb34c414"
      },
      "source": [
        "# It's easy to integrate other common python data structures. \n",
        "# Initialize a tensor, 'b', from a list\n",
        "my_list = [1,2,3,4,5]\n",
        "\n",
        "b = torch.Tensor(my_list)\n",
        "\n",
        "print(b)\n",
        "assert b.size() == torch.Size([5])"
      ],
      "execution_count": null,
      "outputs": [
        {
          "output_type": "stream",
          "text": [
            "tensor([1., 2., 3., 4., 5.])\n"
          ],
          "name": "stdout"
        }
      ]
    },
    {
      "cell_type": "code",
      "metadata": {
        "id": "4XpqRqfG9DTr",
        "colab": {
          "base_uri": "https://localhost:8080/"
        },
        "outputId": "ae3b5d50-28a0-49b0-c5a2-eba5383b7863"
      },
      "source": [
        "# GPUs will allow tensor operations to run much faster. \n",
        "# Assign 'a' and 'b' to run on GPU\n",
        "\n",
        "a = a.cuda()\n",
        "b = b.cuda()\n",
        "\n",
        "print(a, b)\n",
        "assert a.is_cuda and b.is_cuda"
      ],
      "execution_count": null,
      "outputs": [
        {
          "output_type": "stream",
          "text": [
            "tensor([0, 0, 0, 0, 0, 0, 0, 0, 0, 0, 0, 0, 0, 0, 0], device='cuda:0') tensor([1., 2., 3., 4., 5.], device='cuda:0')\n"
          ],
          "name": "stdout"
        }
      ]
    },
    {
      "cell_type": "code",
      "metadata": {
        "id": "FPD6NUDf7915",
        "colab": {
          "base_uri": "https://localhost:8080/"
        },
        "outputId": "9c3a7206-5907-4dd9-a19b-79b04ea317da"
      },
      "source": [
        "# You might not always have access to a GPU\n",
        "# Assign 'a' and 'b' to run on CPU\n",
        "\n",
        "a = a.cpu()\n",
        "b = b.cpu()\n",
        "\n",
        "print(a, b)\n",
        "assert not a.is_cuda and not b.is_cuda"
      ],
      "execution_count": null,
      "outputs": [
        {
          "output_type": "stream",
          "text": [
            "tensor([0, 0, 0, 0, 0, 0, 0, 0, 0, 0, 0, 0, 0, 0, 0]) tensor([1., 2., 3., 4., 5.])\n"
          ],
          "name": "stdout"
        }
      ]
    },
    {
      "cell_type": "code",
      "metadata": {
        "id": "1GMvFc2c9P_i",
        "colab": {
          "base_uri": "https://localhost:8080/"
        },
        "outputId": "7450df56-fb30-4cec-a8d9-9a8566d90f13"
      },
      "source": [
        "# You will often want to convert tensors to numpy arrays to interact with other python libraries\n",
        "# Convert 'a' to a numpy array 'c'\n",
        "\n",
        "c = a.numpy()\n",
        "\n",
        "print(type(c))\n",
        "assert type(c) == np.ndarray"
      ],
      "execution_count": null,
      "outputs": [
        {
          "output_type": "stream",
          "text": [
            "<class 'numpy.ndarray'>\n"
          ],
          "name": "stdout"
        }
      ]
    },
    {
      "cell_type": "code",
      "metadata": {
        "id": "EVFr_ZNgBMHL",
        "colab": {
          "base_uri": "https://localhost:8080/"
        },
        "outputId": "6d21f6f6-76e4-4d6c-f802-24fb87871bca"
      },
      "source": [
        "# To get your data back into Pytorch\n",
        "# Convert 'c' to tensor 'd'\n",
        "\n",
        "d = torch.from_numpy(c)\n",
        "\n",
        "print(d.type())\n",
        "assert torch.is_tensor(d)"
      ],
      "execution_count": null,
      "outputs": [
        {
          "output_type": "stream",
          "text": [
            "torch.LongTensor\n"
          ],
          "name": "stdout"
        }
      ]
    },
    {
      "cell_type": "code",
      "metadata": {
        "id": "JTLXbGwDOLNg"
      },
      "source": [
        "################################\n",
        "# COMPUTATION GRAPH MICROTASKS #\n",
        "################################"
      ],
      "execution_count": null,
      "outputs": []
    },
    {
      "cell_type": "code",
      "metadata": {
        "id": "0ZyjGxHxOLNh",
        "colab": {
          "base_uri": "https://localhost:8080/"
        },
        "outputId": "94e896c1-0cb0-412e-e825-9e9ee8cfb7b7"
      },
      "source": [
        "# To understand how pytorch organizes the computation graph, let's walk through \n",
        "# a quick example!\n",
        "\n",
        "# 1. First, construct a tensor 'a' that contains 10 random floats. \n",
        "# This will simulate the output layer of a network. Hint: use `torch.rand`.\n",
        "\n",
        "a = torch.rand(10)\n",
        "\n",
        "print(a)\n",
        "assert a.size() == torch.Size([10])"
      ],
      "execution_count": null,
      "outputs": [
        {
          "output_type": "stream",
          "text": [
            "tensor([0.2548, 0.2573, 0.0304, 0.3840, 0.7874, 0.6668, 0.7528, 0.0383, 0.9621,\n",
            "        0.1773])\n"
          ],
          "name": "stdout"
        }
      ]
    },
    {
      "cell_type": "code",
      "metadata": {
        "id": "hDA7p4uQOLNh",
        "colab": {
          "base_uri": "https://localhost:8080/"
        },
        "outputId": "d291922b-b9f3-48a2-9635-0d12c6263fe5"
      },
      "source": [
        "# 2. Now turn 'a' into an `nn.Parameter` so that it be attched to the computation\n",
        "# graph.\n",
        "\n",
        "a = torch.nn.Parameter(a)\n",
        "\n",
        "print(a)\n",
        "assert type(a) == nn.Parameter\n",
        "\n",
        "# Notice that our original tensor 'a' is nested inside of a Parameter object.\n",
        "# The Parameter object knows that it will need to comput gradients at some point.\n",
        "\n",
        "# No need to do anything here, but this assert should pass.\n",
        "assert a.requires_grad == True"
      ],
      "execution_count": null,
      "outputs": [
        {
          "output_type": "stream",
          "text": [
            "Parameter containing:\n",
            "tensor([0.2548, 0.2573, 0.0304, 0.3840, 0.7874, 0.6668, 0.7528, 0.0383, 0.9621,\n",
            "        0.1773], requires_grad=True)\n"
          ],
          "name": "stdout"
        }
      ]
    },
    {
      "cell_type": "code",
      "metadata": {
        "id": "aZ1Dr0fXOLNh",
        "colab": {
          "base_uri": "https://localhost:8080/"
        },
        "outputId": "9a25f5d3-605d-4ee2-94ee-22a03c00c1d3"
      },
      "source": [
        "# 3. Let's run 'a' through a loss function. The output of the loss function is\n",
        "# just another tensor, but this tensor remebers what operations produced it.\n",
        "loss_fn = nn.CrossEntropyLoss()\n",
        "loss = loss_fn(a.unsqueeze(0), torch.Tensor([7]).long())\n",
        "print(loss)\n",
        "\n",
        "# Now, instruct the network to do a backward pass, by calling '.backward()' on the \n",
        "# result of the loss function. We should now be able to see the gradients that \n",
        "# were computed for 'a' w.r.t. the loss.\n",
        "loss.backward()\n",
        "\n",
        "assert a.grad is not None\n",
        "print(a.grad)"
      ],
      "execution_count": null,
      "outputs": [
        {
          "output_type": "stream",
          "text": [
            "tensor(2.7468, grad_fn=<NllLossBackward>)\n",
            "tensor([ 0.0796,  0.0798,  0.0636,  0.0906,  0.1356,  0.1202,  0.1310, -0.9359,\n",
            "         0.1615,  0.0737])\n"
          ],
          "name": "stdout"
        }
      ]
    },
    {
      "cell_type": "code",
      "metadata": {
        "id": "swqoq2JrOLNj",
        "colab": {
          "base_uri": "https://localhost:8080/"
        },
        "outputId": "2031a274-eb89-4406-80f3-8356d0887bae"
      },
      "source": [
        "# 4. If we were to use 'a' in another operation, this might affect the computation graph.\n",
        "# To make sure that you are not adversly affecting the computation graph, call\n",
        "# `.detach()` on 'a' and assign the result to a new variable 'b'.\n",
        "\n",
        "b = a.detach()\n",
        "\n",
        "print(a)\n",
        "print(b)\n",
        "assert a.requires_grad == True\n",
        "assert b.requires_grad == False"
      ],
      "execution_count": null,
      "outputs": [
        {
          "output_type": "stream",
          "text": [
            "Parameter containing:\n",
            "tensor([0.2548, 0.2573, 0.0304, 0.3840, 0.7874, 0.6668, 0.7528, 0.0383, 0.9621,\n",
            "        0.1773], requires_grad=True)\n",
            "tensor([0.2548, 0.2573, 0.0304, 0.3840, 0.7874, 0.6668, 0.7528, 0.0383, 0.9621,\n",
            "        0.1773])\n"
          ],
          "name": "stdout"
        }
      ]
    },
    {
      "cell_type": "code",
      "metadata": {
        "id": "-H_hbouiIT6R"
      },
      "source": [
        ""
      ],
      "execution_count": null,
      "outputs": []
    }
  ]
}