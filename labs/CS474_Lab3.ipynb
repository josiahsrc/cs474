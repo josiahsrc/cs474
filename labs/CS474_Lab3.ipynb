{
  "nbformat": 4,
  "nbformat_minor": 0,
  "metadata": {
    "accelerator": "GPU",
    "colab": {
      "name": "CS474_Lab3.ipynb",
      "provenance": [],
      "collapsed_sections": []
    },
    "kernelspec": {
      "display_name": "Python 3",
      "language": "python",
      "name": "python3"
    },
    "language_info": {
      "codemirror_mode": {
        "name": "ipython",
        "version": 3
      },
      "file_extension": ".py",
      "mimetype": "text/x-python",
      "name": "python",
      "nbconvert_exporter": "python",
      "pygments_lexer": "ipython3",
      "version": "3.7.1"
    },
    "pycharm": {
      "stem_cell": {
        "cell_type": "raw",
        "metadata": {
          "collapsed": false
        },
        "source": []
      }
    }
  },
  "cells": [
    {
      "cell_type": "markdown",
      "metadata": {
        "id": "lNNp4sOd0las"
      },
      "source": [
        "<a href=\"https://colab.research.google.com/github/wingated/cs474_labs_f2019/blob/master/DL_Lab3.ipynb\" target=\"_parent\"><img src=\"https://colab.research.google.com/assets/colab-badge.svg\" alt=\"Open In Colab\"/></a>"
      ]
    },
    {
      "cell_type": "markdown",
      "metadata": {
        "id": "view-in-github"
      },
      "source": [
        "# Lab 3: Intro to CNNs and DNNs\n",
        "\n",
        "## Objectives\n",
        "\n",
        "* Build and train a deep conv net\n",
        "* Explore and implement various initialization techniques\n",
        "* Implement a parameterized module in Pytorch\n",
        "* Use a principled loss function\n",
        "\n",
        "## Video Tutorial\n",
        "[https://youtu.be/3TAuTcx-VCc](https://youtu.be/3TAuTcx-VCc)\n",
        "\n",
        "## Deliverable\n",
        "For this lab, you will submit an ipython notebook via learningsuite.\n",
        "This is where you build your first deep neural network!\n",
        "\n",
        "For this lab, we'll be combining several different concepts that we've covered during class,\n",
        "including new layer types, initialization strategies, and an understanding of convolutions.\n",
        "\n",
        "## Grading Standards:\n",
        "* 20% Part 0: Successfully followed lab video and typed in code\n",
        "* 20% Part 1: Re-implement Conv2D and CrossEntropy loss function\n",
        "* 20% Part 2: Implement different initialization strategies\n",
        "* 10% Part 3: Print parameters, plot train/test accuracy\n",
        "* 10% Reach 85% validation accuracy from parts 1-3\n",
        "* 10% Part 4: Convolution parameters quiz\n",
        "* 10% Tidy and legible figures, including labeled axes where appropriate\n",
        "___\n",
        "\n",
        "### Part 0\n",
        "Watch and follow video tutorial:\n",
        "\n",
        "[https://youtu.be/3TAuTcx-VCc](https://youtu.be/3TAuTcx-VCc)\n",
        "\n",
        "**TODO:**\n",
        "\n",
        "**DONE:**\n",
        "\n",
        "* Watch tutorial"
      ]
    },
    {
      "cell_type": "code",
      "metadata": {
        "pycharm": {
          "name": "#%%\n"
        },
        "id": "9uK06yeY0la0",
        "colab": {
          "base_uri": "https://localhost:8080/"
        },
        "outputId": "cdf947ce-1f43-42cf-d5d3-ecc39b23bec5"
      },
      "source": [
        "!pip3 install torch\n",
        "!pip3 install torchvision\n",
        "!pip3 install tqdm"
      ],
      "execution_count": 265,
      "outputs": [
        {
          "output_type": "stream",
          "text": [
            "Requirement already satisfied: torch in /usr/local/lib/python3.6/dist-packages (1.7.0+cu101)\n",
            "Requirement already satisfied: dataclasses in /usr/local/lib/python3.6/dist-packages (from torch) (0.8)\n",
            "Requirement already satisfied: typing-extensions in /usr/local/lib/python3.6/dist-packages (from torch) (3.7.4.3)\n",
            "Requirement already satisfied: numpy in /usr/local/lib/python3.6/dist-packages (from torch) (1.19.5)\n",
            "Requirement already satisfied: future in /usr/local/lib/python3.6/dist-packages (from torch) (0.16.0)\n",
            "Requirement already satisfied: torchvision in /usr/local/lib/python3.6/dist-packages (0.8.1+cu101)\n",
            "Requirement already satisfied: torch==1.7.0 in /usr/local/lib/python3.6/dist-packages (from torchvision) (1.7.0+cu101)\n",
            "Requirement already satisfied: numpy in /usr/local/lib/python3.6/dist-packages (from torchvision) (1.19.5)\n",
            "Requirement already satisfied: pillow>=4.1.1 in /usr/local/lib/python3.6/dist-packages (from torchvision) (7.0.0)\n",
            "Requirement already satisfied: dataclasses in /usr/local/lib/python3.6/dist-packages (from torch==1.7.0->torchvision) (0.8)\n",
            "Requirement already satisfied: typing-extensions in /usr/local/lib/python3.6/dist-packages (from torch==1.7.0->torchvision) (3.7.4.3)\n",
            "Requirement already satisfied: future in /usr/local/lib/python3.6/dist-packages (from torch==1.7.0->torchvision) (0.16.0)\n",
            "Requirement already satisfied: tqdm in /usr/local/lib/python3.6/dist-packages (4.41.1)\n"
          ],
          "name": "stdout"
        }
      ]
    },
    {
      "cell_type": "markdown",
      "metadata": {
        "id": "o6YLvHtf0la1"
      },
      "source": [
        ""
      ]
    },
    {
      "cell_type": "code",
      "metadata": {
        "collapsed": true,
        "id": "wQOefmcZVgTl"
      },
      "source": [
        "import torch\n",
        "import torch.nn as nn\n",
        "import torch.nn.functional as F\n",
        "import torch.optim as optim\n",
        "from torch.utils.data import Dataset, DataLoader\n",
        "import numpy as np\n",
        "import matplotlib.pyplot as plt\n",
        "from torchvision import transforms, utils, datasets\n",
        "from tqdm import tqdm\n",
        "from torch.nn.parameter import Parameter\n",
        "import pdb\n",
        "\n",
        "assert torch.cuda.is_available(), \"You need to request a GPU from Runtime > Change Runtime\""
      ],
      "execution_count": 280,
      "outputs": []
    },
    {
      "cell_type": "code",
      "metadata": {
        "id": "Y6PMBW4ymT9o"
      },
      "source": [
        "# Use the dataset class you created in lab2\n",
        "class FashionMNISTProcessedDataset(Dataset):\n",
        "  def __init__(self, root, train=True):\n",
        "    self.data = datasets.FashionMNIST(\n",
        "      root,\n",
        "      train=train,\n",
        "      transform=transforms.ToTensor(),\n",
        "      download=True\n",
        "    )\n",
        "\n",
        "  def __getitem__(self, i):\n",
        "    x, y = self.data[i]\n",
        "    return x, y\n",
        "\n",
        "  def __len__(self):\n",
        "    return len(self.data)"
      ],
      "execution_count": 267,
      "outputs": []
    },
    {
      "cell_type": "markdown",
      "metadata": {
        "id": "QY4owfQwm-Ni"
      },
      "source": [
        "___\n",
        "\n",
        "### Part 1\n",
        "Re-implement a Conv2D module with parameters and a CrossEntropy loss function.\n",
        "\n",
        "**TODO:**\n",
        "\n",
        "**DONE:**\n",
        "\n",
        "* CrossEntropyLoss \n",
        "* Conv2D\n",
        "\n",
        "___\n",
        "\n",
        "### Part 2\n",
        "Implement a few initialization strategies which can include Xe initialization\n",
        "(sometimes called Xavier), Orthogonal initialization, and uniform random.\n",
        "You can specify which strategy you want to use with a parameter. \n",
        "\n",
        "\n",
        "\n",
        "Helpful links include:\n",
        "*  [Orthogonal Initialization](https://hjweide.github.io/orthogonal-initialization-in-convolutional-layers) (or the original paper: http://arxiv.org/abs/1312.6120)\n",
        "*  http://andyljones.tumblr.com/post/110998971763/an-explanation-of-xavier-initialization\n",
        "\n",
        "**TODO:**\n",
        "\n",
        "**DONE:**\n",
        "\n",
        "* Parameterize custom Conv2D for different initilization strategies\n",
        "* Xe\n",
        "* Orthogonal\n",
        "* Uniform\n"
      ]
    },
    {
      "cell_type": "code",
      "metadata": {
        "collapsed": true,
        "id": "RkieTbwlYWPS"
      },
      "source": [
        "class CrossEntropyLoss(nn.Module):\n",
        "  def __init__(\n",
        "      self,\n",
        "      weight = None, \n",
        "      size_average = None, \n",
        "      ignore_index: int = -100, \n",
        "      reduce = None, \n",
        "      reduction: str = 'mean',\n",
        "  ):\n",
        "    self.__dict__.update(locals())\n",
        "    super(CrossEntropyLoss, self).__init__()  \n",
        "\n",
        "  def forward(self, y_hat, y_truth):\n",
        "    size = y_hat.size()\n",
        "\n",
        "    # Left part of equation\n",
        "    # Make it so we can combine the truth with the predicted\n",
        "    # values.\n",
        "    a = torch.zeros(size)\n",
        "    a[np.arange(size[0]), y_truth] = 1\n",
        "\n",
        "    # a is created here, it must be put on the cuda\n",
        "    # because it wasn't originally from a tensor on\n",
        "    # the gpu.\n",
        "    a = a.cuda() \n",
        "    a = torch.sum(y_hat * a, dim=1)\n",
        "\n",
        "    # Right part of equation\n",
        "    # The exp step tends to go to infinity for large y_hat \n",
        "    # numbers, and logsumexp will fix that issue.\n",
        "    b = torch.logsumexp(y_hat, dim=1)\n",
        "\n",
        "    # Take the average over the whole batch\n",
        "    return (-a + b).mean()\n",
        "\n",
        "class Conv2d(nn.Module):\n",
        "  def __init__(\n",
        "      self,\n",
        "      in_channels, \n",
        "      out_channels, \n",
        "      kernel_size, \n",
        "      stride = 1, \n",
        "      padding = 0, \n",
        "      dilation = 1, \n",
        "      groups = 1, \n",
        "      bias = True,\n",
        "      padding_mode = 'zeros',\n",
        "      init_method = 'uniform',\n",
        "  ):\n",
        "    self.__dict__.update(locals())\n",
        "    super(Conv2d, self).__init__()\n",
        "\n",
        "    self.weight = Parameter(torch.Tensor(\n",
        "      self.out_channels,\n",
        "      self.in_channels,\n",
        "      *self.kernel_size,\n",
        "    ))\n",
        "\n",
        "    self.bias = Parameter(torch.Tensor(\n",
        "        out_channels,\n",
        "    ))\n",
        "\n",
        "    # This is where initialization goes\n",
        "    # Recommends orthogonal using numpy, then convert to tensor\n",
        "    self.bias.data.uniform_(0, 0)\n",
        "    \n",
        "    if init_method == 'xe':\n",
        "      std = (2 / (in_channels + out_channels)) ** .5\n",
        "      num_channels = out_channels * in_channels * kernel_size[0] * kernel_size[1]\n",
        "      X = np.random.normal(0, std ** 2, num_channels)\n",
        "      \n",
        "      W = X.reshape((\n",
        "        out_channels, \n",
        "        in_channels, \n",
        "        *kernel_size, \n",
        "      ))\n",
        "\n",
        "      self.weight.data = torch.from_numpy(W).float()\n",
        "    elif init_method == 'orthog':\n",
        "      # https://hjweide.github.io/orthogonal-initialization-in-convolutional-layers\n",
        "      X = np.random.random((\n",
        "        out_channels, \n",
        "        in_channels * kernel_size[0] * kernel_size[1]\n",
        "      )).astype(np.float32)\n",
        "\n",
        "      U, _, Vt = np.linalg.svd(X, full_matrices=False)\n",
        "      W = U if X.shape[0] > X.shape[1] else Vt\n",
        "      W = W.reshape((\n",
        "        out_channels, \n",
        "        in_channels, \n",
        "        *kernel_size, \n",
        "      ))\n",
        "\n",
        "      self.weight.data = torch.from_numpy(W)\n",
        "    elif init_method == 'uniform':\n",
        "      self.weight.data.uniform_(-1, 1)\n",
        "    else:\n",
        "      raise 'Not implemented'\n",
        "\n",
        "  def forward(self, x):\n",
        "    return F.conv2d(\n",
        "      x, \n",
        "      self.weight, \n",
        "      bias=self.bias,\n",
        "      stride=self.stride,\n",
        "      padding=self.padding,\n",
        "      dilation=self.dilation,\n",
        "      groups=self.groups\n",
        "    )\n"
      ],
      "execution_count": 268,
      "outputs": []
    },
    {
      "cell_type": "code",
      "metadata": {
        "collapsed": true,
        "id": "d4C-_v9Hm7YE"
      },
      "source": [
        "class ConvNetwork(nn.Module):\n",
        "  def __init__(self, dataset):\n",
        "    super(ConvNetwork, self).__init__()\n",
        "    x, y = dataset[0]\n",
        "    c, h, w = x.size()\n",
        "    out_dim = 10\n",
        "\n",
        "    self.net = nn.Sequential(\n",
        "      Conv2d(c, 30, (3, 3), padding=(1,1), init_method='xe'),\n",
        "      nn.ReLU(),\n",
        "      Conv2d(30, 40, (3, 3), padding=(1,1), init_method='orthog'),\n",
        "      nn.ReLU(),\n",
        "      Conv2d(40, 50, (3, 3), padding=(1,1), init_method='uniform'),\n",
        "      nn.ReLU(),\n",
        "      Conv2d(50, 110, (3, 3), padding=(1,1), init_method='uniform'),\n",
        "      nn.ReLU(),\n",
        "      Conv2d(110, 240, (3, 3), padding=(1,1), init_method='orthog'),\n",
        "      nn.ReLU(),\n",
        "      Conv2d(240, 160, (3, 3), padding=(1,1), init_method='xe'),\n",
        "      nn.ReLU(),\n",
        "      Conv2d(160, 60, (3, 3), padding=(1,1), init_method='xe'),\n",
        "      nn.ReLU(),\n",
        "      Conv2d(60, out_dim, (28,28), padding=(0,0)),\n",
        "    )\n",
        "\n",
        "  def forward(self, x):\n",
        "    # (n, 10, 1, 1)\n",
        "    # (n, 10, 1)\n",
        "    # (n, 10)\n",
        "    return self.net(x).squeeze(2).squeeze(2)\n"
      ],
      "execution_count": 269,
      "outputs": []
    },
    {
      "cell_type": "code",
      "metadata": {
        "collapsed": true,
        "id": "jYqywck8Wdm9",
        "pycharm": {
          "is_executing": false
        }
      },
      "source": [
        "# Initialize Datasets\n",
        "train_dataset = FashionMNISTProcessedDataset(\n",
        "  '/tmp/fashionmnist', \n",
        "  train = True\n",
        ")\n",
        "\n",
        "val_dataset = FashionMNISTProcessedDataset(\n",
        "  '/tmp/fashionmnist', \n",
        "  train = False\n",
        ")\n",
        "\n",
        "# Initialize DataLoaders\n",
        "train_loader = DataLoader(\n",
        "  train_dataset, \n",
        "  batch_size=42, \n",
        "  pin_memory=True\n",
        ")\n",
        "\n",
        "val_loader = DataLoader(\n",
        "  val_dataset, \n",
        "  batch_size=42, \n",
        "  pin_memory=True\n",
        ")\n",
        "\n",
        "# Initialize Model\n",
        "model = ConvNetwork(train_dataset)\n",
        "model = model.cuda()\n",
        "\n",
        "# Initialize Objective and Optimizer and other parameters\n",
        "objective = CrossEntropyLoss()\n",
        "optimizer = optim.Adam(model.parameters(), lr=1e-4)"
      ],
      "execution_count": 270,
      "outputs": []
    },
    {
      "cell_type": "code",
      "metadata": {
        "collapsed": true,
        "id": "mTg1jyIsYVZN",
        "pycharm": {
          "is_executing": false
        },
        "colab": {
          "base_uri": "https://localhost:8080/"
        },
        "outputId": "00c6db5c-f345-41ae-e3d5-f0b7a5c5d90c"
      },
      "source": [
        "# Run your training and validation loop and collect stats\n",
        "losses = []\n",
        "validations = []\n",
        "\n",
        "training_accuracy = []\n",
        "validation_accuracy = []\n",
        "\n",
        "# Get accuracy by comparing one-hot encoded versions of preds/truth\n",
        "def get_accuracy(y_hat, y_truth):\n",
        "  y_hat_preds = torch.softmax(y_hat, 1).argmax(dim=1)\n",
        "  return (y_hat_preds == y_truth).float().mean()\n",
        "\n",
        "# # ACCURACY\n",
        "# y_hat = output from our model\n",
        "# # NOTE: You can't use this in the cross entropy loss function\n",
        "# # but you can use it outside of it\n",
        "# torch.softmax(y_hat, 1) --> gives probabilities of all outputs\n",
        "# torch.softmax(y_hat, 1).argmax() --> gets the most likely class for each item\n",
        "# # y_truth will be the same form as one line above\n",
        "# # Compare the two\n",
        "# (torch.softmax(y_hat, 1).argmax() == y_truth).float().mean()\n",
        "EPOCHS = 5\n",
        "\n",
        "# Run training / validation loops\n",
        "for epoch in range(EPOCHS):\n",
        "\n",
        "  loop = tqdm(\n",
        "    total=len(train_loader) * EPOCHS, \n",
        "    position=0,\n",
        "    leave=False\n",
        "  )\n",
        "\n",
        "  for batch, (x, y_truth) in enumerate(train_loader):\n",
        "    x = x.cuda(non_blocking=True)\n",
        "    y_truth = y_truth.cuda(non_blocking=True)\n",
        "\n",
        "    # Make predictions\n",
        "    optimizer.zero_grad()\n",
        "    y_hat = model(x)\n",
        "\n",
        "    # Use the CrossEntropyLoss we made to update the model\n",
        "    loss = objective(y_hat, y_truth)\n",
        "    loss.backward()\n",
        "    optimizer.step()\n",
        "\n",
        "    # Track training losses\n",
        "    losses.append(loss.item())\n",
        "\n",
        "    # Keep track of the training accuracy over time\n",
        "    accuracy = get_accuracy(y_hat, y_truth)\n",
        "    training_accuracy.append(accuracy)\n",
        "\n",
        "    # Update the loop so we know whats up\n",
        "    loop.set_description(\n",
        "      f'epoch={epoch}, loss={loss:.4f}, accuracy={accuracy:.4f}')\n",
        "    loop.update(1)\n",
        "\n",
        "    # Validate every nth batch\n",
        "    if batch % 100 == 0:\n",
        "      val_tmp = []\n",
        "      val_acc_tmp = 0\n",
        "      for vx, vx_truth in val_loader:\n",
        "        vx_hat = model(vx.cuda())\n",
        "        vx_truth = vx_truth.cuda()\n",
        "\n",
        "        # Keep a rolling sum of the validation accuracy as we go\n",
        "        val_acc_tmp += get_accuracy(vx_hat, vx_truth)\n",
        "        \n",
        "        # Get the validation loss for this batch\n",
        "        vloss = objective(vx_hat, vx_truth).item()\n",
        "        val_tmp.append(vloss)\n",
        "        \n",
        "      # Create a snapshot of the validation accuracy at this step\n",
        "      val_acc_tmp = val_acc_tmp / len(val_tmp)\n",
        "      validation_accuracy.append(\n",
        "        (len(training_accuracy), val_acc_tmp)\n",
        "      )\n",
        "\n",
        "      # Keep track of the average validation loss\n",
        "      val_tmp = np.mean(val_tmp)\n",
        "      validations.append((len(losses), val_tmp))\n",
        "\n",
        "  loop.close()\n",
        "\n",
        "print('')\n",
        "print(f'Final training accuracy = {training_accuracy[-1]}')\n",
        "print(f'Final validation accuracy = {validation_accuracy[-1]}')"
      ],
      "execution_count": 271,
      "outputs": [
        {
          "output_type": "stream",
          "text": [
            "                                                                                          "
          ],
          "name": "stderr"
        },
        {
          "output_type": "stream",
          "text": [
            "\n",
            "Final training accuracy = 0.9583333730697632\n",
            "Final validation accuracy = (7117, tensor(0.8818, device='cuda:0'))\n"
          ],
          "name": "stdout"
        },
        {
          "output_type": "stream",
          "text": [
            "\r"
          ],
          "name": "stderr"
        }
      ]
    },
    {
      "cell_type": "markdown",
      "metadata": {
        "id": "ronkEckHiDaU"
      },
      "source": [
        "\n",
        "___\n",
        "\n",
        "### Part 3\n",
        "Print the number of parameters in your network and plot accuracy of your training and validation \n",
        "set over time. You should experiment with some deep networks and see if you can get a network \n",
        "with close to 1,000,000 parameters.\n",
        "\n",
        "Once you've experimented with multiple network setups and the different initialization strategies, plot the best-performing experiment here. You should be able to exceed 85% accuracy on the validation set.\n",
        "\n",
        "**TODO:**\n",
        "\n",
        "**DONE:**\n",
        "* Experiment with Deep Networks\n",
        "* Plot accuracy of training and validation set over time\n",
        "* Print out number of parameters in the model \n",
        "* Plot experiment results with 85% or better validation accuracy\n"
      ]
    },
    {
      "cell_type": "code",
      "metadata": {
        "collapsed": true,
        "id": "PaWCKjxvyRSf",
        "pycharm": {
          "is_executing": false
        },
        "colab": {
          "base_uri": "https://localhost:8080/",
          "height": 573
        },
        "outputId": "a978fa0c-4f1d-461b-84db-67a77e9c848e"
      },
      "source": [
        "\n",
        "# Go back up and try a few different networks and initialization strategies\n",
        "# Plot loss if you want\n",
        "# Plot accuracy\n",
        "\n",
        "# Display accuracy\n",
        "plt.title('Accuracy')\n",
        "plt.plot(training_accuracy, label='Training')\n",
        "plt.plot(*zip(*validation_accuracy), label='Validation')\n",
        "plt.xlabel('Batch Number')\n",
        "plt.ylabel('Percent classified correctly')\n",
        "plt.legend()\n",
        "plt.show()\n",
        "\n",
        "# Display loss\n",
        "plt.title('Loss')\n",
        "plt.plot(losses, label='Training')\n",
        "plt.plot(*zip(*validations), label='Validation')\n",
        "plt.xlabel('Batch Number')\n",
        "plt.ylabel('Cross entropy loss')\n",
        "plt.legend()\n",
        "plt.show()\n"
      ],
      "execution_count": 272,
      "outputs": [
        {
          "output_type": "display_data",
          "data": {
            "image/png": "[encoded data removed]",
            "text/plain": [
              "<Figure size 432x288 with 1 Axes>"
            ]
          },
          "metadata": {
            "tags": [],
            "needs_background": "light"
          }
        },
        {
          "output_type": "display_data",
          "data": {
            "image/png": "[encoded data removed]",
            "text/plain": [
              "<Figure size 432x288 with 1 Axes>"
            ]
          },
          "metadata": {
            "tags": [],
            "needs_background": "light"
          }
        }
      ]
    },
    {
      "cell_type": "code",
      "metadata": {
        "collapsed": true,
        "id": "oijCR-JnyS6V",
        "pycharm": {
          "is_executing": false
        },
        "colab": {
          "base_uri": "https://localhost:8080/"
        },
        "outputId": "57473544-769a-49cd-df3c-60785a663448"
      },
      "source": [
        "# Compute and print the number of parameters in the model\n",
        "total_params = 0\n",
        "for p in model.parameters():\n",
        "  if not p.requires_grad: \n",
        "    continue\n",
        "  total_params += p.numel()\n",
        "print(f\"Total params = {total_params}\")"
      ],
      "execution_count": 274,
      "outputs": [
        {
          "output_type": "stream",
          "text": [
            "Total params = 1219270\n"
          ],
          "name": "stdout"
        }
      ]
    },
    {
      "cell_type": "markdown",
      "metadata": {
        "id": "7hXGRxUQh9gX"
      },
      "source": [
        "___\n",
        "\n",
        "### Part 4\n",
        "Learn about how convolution layers affect the shape of outputs, and answer the following quiz questions. Include these in a new markdown cell in your jupyter notebook.\n",
        "\n",
        "\n",
        "*Using a Kernel size of 3×3 what should the settings of your 2d convolution be that results in the following mappings (first answer given to you)*\n",
        "\n",
        "* (c=3, h=10, w=10) ⇒ (c=10, h=8, w=8) : (out_channels=10, kernel_size=(3, 3), padding=(0, 0))\n",
        "* (c=3, h=10, w=10) ⇒ (c=22, h=10, w=10) : **(out_channels=22, kernel_size=(3, 3), padding=(1, 1))**\n",
        "* (c=3, h=10, w=10) ⇒ (c=65, h=12, w=12) : **(out_channels=65, kernel_size=(3, 3), padding=(2, 2))**\n",
        "* (c=3, h=10, w=10) ⇒ (c=7, h=20, w=20) : **(out_channels=7, kernel_size=(3, 3), padding=(6, 6))**\n",
        "\n",
        "*Using a Kernel size of 5×5:*)\n",
        "\n",
        "* (c=3, h=10, w=10) ⇒ (c=10, h=8, w=8) : (out_channels=10, kernel_size=(5, 5), padding=(1, 1))\n",
        "* (c=3, h=10, w=10) ⇒ (c=100, h=10, w=10) : **(out_channels=100, kernel_size=(5, 5), padding=(2, 2))**\n",
        "* (c=3, h=10, w=10) ⇒ (c=23, h=12, w=12) : **(out_channels=23, kernel_size=(5, 5), padding=(3, 3))**\n",
        "* (c=3, h=10, w=10) ⇒ (c=5, h=24, w=24) : **(out_channels=5, kernel_size=(5, 5), padding=(9, 9))**\n",
        "\n",
        "*Using Kernel size of 5×3:*\n",
        "\n",
        "* (c=3, h=10, w=10) ⇒ (c=10, h=8, w=8) : **(out_channels=10, kernel_size=(5, 3), padding=(1, 0))**\n",
        "* (c=3, h=10, w=10) ⇒ (c=100, h=10, w=10) : **(out_channels=100, kernel_size=(5, 3), padding=(2, 1))**\n",
        "* (c=3, h=10, w=10) ⇒ (c=23, h=12, w=12) : **(out_channels=23, kernel_size=(5, 3), padding=(3, 2))**\n",
        "* (c=3, h=10, w=10) ⇒ (c=5, h=24, w=24) : **(out_channels=5, kernel_size=(5, 3), padding=(9, 8))**\n",
        "\n",
        "*Determine the kernel that requires the smallest padding size to make the following mappings possible:*\n",
        "\n",
        "* (c=3, h=10, w=10) ⇒ (c=10, h=9, w=7) : **(kernel_size=(2, 4))**\n",
        "* (c=3, h=10, w=10) ⇒ (c=22, h=10, w=10) : **(kernel_size=(1, 1))**\n",
        "\n",
        "**TODO:**\n",
        "\n",
        "**DONE:**\n",
        "\n",
        "* Answer all the questions above \n"
      ]
    },
    {
      "cell_type": "markdown",
      "metadata": {
        "id": "wD-5FWzHTSG8"
      },
      "source": [
        ""
      ]
    },
    {
      "cell_type": "code",
      "metadata": {
        "collapsed": true,
        "id": "XXfG3wClh8an",
        "pycharm": {
          "is_executing": false
        },
        "colab": {
          "base_uri": "https://localhost:8080/"
        },
        "outputId": "deecb931-36c6-47b5-9e7e-3b64efa79f8c"
      },
      "source": [
        "# Write some test code for checking the answers for these problems (example shown in the video)\n",
        "# c = nn.Conv2d(3,100,kernel_size=(5,3), padding=(2,1))\n",
        "# c(torch.zeros(1, 3, 10, 10)).size()\n",
        "\n",
        "# c = nn.Conv2d(3,10,kernel_size=(2,4), padding=(0,0))\n",
        "# c(torch.zeros(1, 3, 10, 10)).size()\n",
        "\n",
        "# c = nn.Conv2d(3,22,kernel_size=(1,1), padding=(0,0))\n",
        "# c(torch.zeros(1, 3, 10, 10)).size()"
      ],
      "execution_count": 279,
      "outputs": [
        {
          "output_type": "execute_result",
          "data": {
            "text/plain": [
              "torch.Size([1, 22, 10, 10])"
            ]
          },
          "metadata": {
            "tags": []
          },
          "execution_count": 279
        }
      ]
    },
    {
      "cell_type": "code",
      "metadata": {
        "id": "JX_D0XFfqiHU"
      },
      "source": [
        ""
      ],
      "execution_count": 176,
      "outputs": []
    },
    {
      "cell_type": "code",
      "metadata": {
        "id": "GnuUDllZPe2j"
      },
      "source": [
        ""
      ],
      "execution_count": null,
      "outputs": []
    }
  ]
}